{
 "cells": [
  {
   "cell_type": "markdown",
   "metadata": {},
   "source": [
    "## Download all \"Revue Esprit\" archives"
   ]
  },
  {
   "cell_type": "markdown",
   "metadata": {},
   "source": [
    "\n",
    "### How to\n",
    "You need  a valid Account to access to the Archives.\n",
    "With this account, we can retrieve your cookie session with Chrome Debugger.\n",
    "Copy this cookie in the `cookie` variable below"
   ]
  },
  {
   "cell_type": "code",
   "execution_count": null,
   "metadata": {},
   "outputs": [],
   "source": [
    "import os\n",
    "import pandas as pd\n",
    "import requests\n",
    "import time\n",
    "import pathlib\n",
    "from tqdm.notebook import tqdm\n",
    "from lxml import html\n",
    "from http.cookies import BaseCookie"
   ]
  },
  {
   "cell_type": "code",
   "execution_count": null,
   "metadata": {},
   "outputs": [],
   "source": [
    "cookie = \"_ga=GA1.2.2050623063.1579637042; cookieconsent_status=dismiss; _gid=GA1.2.1618495606.1579957996; PHPSESSID=h9vdig327mhtqbr37emj37ema6; language=%84%EA%F8%5C%9AY%19%C0O%40V%97N%8E%C3y%D1%F3%FF%21%FB%B5%3C%9E%26%87_%19zN%E4%B5%3E7%B7%F5%C3%C3%22%83%07%11%DF%DD%82T%24%EE%E3%83m%1A%CC%15%0F%F1F%03%BD%12f%FB%DF%40; user=k%BD-vj%24%95%26%C0%F6d%88%FA%89%A0%2C%22%8D%2F%1C%BC%85%ED%18%87%15%F0%1D%B3%95%CC%12%E9W%3D%1C%FA%D4%BF%9E%F7J%F0%C4%81u%27b%0Bz%13w-%9F7%A8%2A%84%BD%17%E4%14%AE%28%86w%EA%A7%9C%94%C8%1B%1D%BD%07%D9T%E4%F7%D4Y%CC%EB%EB%A8%0A%7F%29%0E%B4%A7%A3%EFL%F5%17%A9%8Fl%B0kR%F8%3E%2B%87%22yt%0A%EA%C5%A5B%CC%D5%0E%FF%E0pM%E9%7E%ED9%8A%5D%F0%8A%19%C6%12%95%0E%A0%D5c%D5%40sC%CF%FD%E7%0B%1E%E6%28%18%ED%B4%F68%1A%98%02g%F9%12%0Bm%9B%1C%BBG1%D8%FA%60%F2%E3o%3B%06%5CA%A7Z%8D%C3%8A%DB%0BD%E3%28%00%98%CBiM%C6\""
   ]
  },
  {
   "cell_type": "code",
   "execution_count": null,
   "metadata": {},
   "outputs": [],
   "source": [
    "pathlib.Path('./epub').mkdir(parents=True, exist_ok=True)\n",
    "pathlib.Path('./pdf').mkdir(parents=True, exist_ok=True)\n",
    "pathlib.Path('./data/pdf').mkdir(parents=True, exist_ok=True)\n",
    "pathlib.Path('./data/epub').mkdir(parents=True, exist_ok=True)"
   ]
  },
  {
   "cell_type": "code",
   "execution_count": null,
   "metadata": {},
   "outputs": [],
   "source": [
    "all_numbers = range(1,886)\n",
    "\n",
    "\n",
    "def set_url_pdf(number):\n",
    "    return f\"https://esprit.presse.fr/download/numero/{number}/pdf\"\n",
    "\n",
    "def set_url_epub(number):\n",
    "    return f\"https://esprit.presse.fr/download/numero/{number}/epub\" \n",
    "\n"
   ]
  },
  {
   "cell_type": "code",
   "execution_count": null,
   "metadata": {},
   "outputs": [],
   "source": [
    "cook = {\"Host\": \"esprit.presse.fr\",\n",
    "\"Connection\": \"keep-alive\",\n",
    "\"Upgrade-Insecure-Requests\": \"1\",\n",
    "\"DNT\": \"1\",\n",
    "\"User-Agent\": \"Mozilla/5.0 (X11; Linux x86_64) AppleWebKit/537.36 (KHTML, like Gecko) Chrome/79.0.3945.130 Safari/537.36\",\n",
    "\"Sec-Fetch-User\": \"?1\",\n",
    "\"Accept\": \"text/html,application/xhtml+xml,application/xml;q=0.9,image/webp,image/apng,*/*;q=0.8,application/signed-exchange;v=b3;q=0.9\",\n",
    "\"Sec-Fetch-Site\": \"same-origin\",\n",
    "\"Sec-Fetch-Mode\": \"navigate\",\n",
    "\"Referer\": \"https://esprit.presse.fr/tous-les-numeros/le-partage-de-l-universel/885\",\n",
    "\"Accept-Encoding\": \"gzip, deflate, br\",\n",
    "\"Accept-Language\": \"en-US,en;q=0.9,de;q=0.8,fr;q=0.7\",\n",
    "\"Cookie\":cookie\n",
    "       }\n"
   ]
  },
  {
   "cell_type": "markdown",
   "metadata": {},
   "source": [
    "### Download archives"
   ]
  },
  {
   "cell_type": "code",
   "execution_count": null,
   "metadata": {},
   "outputs": [],
   "source": [
    "def download_pdf(number):\n",
    "    url = set_url_pdf(number)\n",
    "    r = requests.get(url, headers = cook)\n",
    "    with open(f'.pdf/esprit_number_{number}.pdf', 'wb') as f:\n",
    "        f.write(r.content)\n",
    "        time.sleep(2)\n",
    "        print(number)\n",
    "\n",
    "def download_epub(number):\n",
    "    url = set_url_epub(number)\n",
    "    r = requests.get(url, headers = cook)\n",
    "    with open(f'.epub/esprit_number_{number}.epub', 'wb') as f:\n",
    "        f.write(r.content)\n",
    "        time.sleep(2)\n",
    "        print(number)\n",
    "        \n",
    "def download_all():\n",
    "    for n in all_numbers:\n",
    "        try:\n",
    "            download_epub(n)\n",
    "            download_pdf(n)\n",
    "        except Exception as e:\n",
    "            print(e)\n",
    "            print(f'for number {n}')"
   ]
  },
  {
   "cell_type": "markdown",
   "metadata": {},
   "source": [
    "### Retrieve metadata"
   ]
  },
  {
   "cell_type": "code",
   "execution_count": null,
   "metadata": {},
   "outputs": [],
   "source": [
    "def get_metadata_old(number):\n",
    "    url = f'https://esprit.presse.fr/tous-les-numeros/{number}'\n",
    "    pageContent=requests.get(url)\n",
    "    tree = html.fromstring(pageContent.content)\n",
    "    \n",
    "    title = tree.xpath('//h1[@class=\"title\"]')\n",
    "    title = title[0].text\n",
    "    date = tree.xpath('//div[@class=\"date margin-top-30 margin-sm-top-10\"]')\n",
    "    date = date[0].text\n",
    "    \n",
    "    articles =tree.xpath('//h2[@class=\"h5 margin-0\"]')\n",
    "    articles = [a.text for a in articles]\n",
    "    authors = tree.xpath('//p[@class=\"author-surtitle margin-0\"]')\n",
    "    authors = [a.text for a in authors]\n",
    "    df = pd.DataFrame({'number':number,'date':date,'title':title,'article':articles,'authors':authors})\n",
    "    return df\n",
    "\n",
    "def get_metadata_new(number):\n",
    "    url = f'https://esprit.presse.fr/tous-les-numeros/{number}'\n",
    "    pageContent=requests.get(url)\n",
    "    tree = html.fromstring(pageContent.content)\n",
    "    title = tree.xpath('//h1[@class=\"title\"]')\n",
    "    title = title[0].text\n",
    "    date = tree.xpath('//div[@class=\"date margin-top-30 margin-sm-top-10\"]')\n",
    "    date = date[0].text\n",
    "    articles =tree.xpath('//*[self::h3 or self::h4][@class=\"h5 margin-0\"]')\n",
    "    articles = [a.text for a in articles]\n",
    "    authors = tree.xpath('//p[@class=\"author-surtitle margin-0\"]')\n",
    "    authors = [a.text for a in authors]\n",
    "    df = pd.DataFrame({'number':number,'date':date,'title':title,'article':articles,'authors':authors})\n",
    "    return df\n"
   ]
  },
  {
   "cell_type": "code",
   "execution_count": null,
   "metadata": {},
   "outputs": [],
   "source": [
    "def get_all_metadata():\n",
    "    df_all= pd.DataFrame()\n",
    "    \n",
    "    for n in tqdm(all_numbers):\n",
    "        try:\n",
    "            df = get_metadata_old(n)      \n",
    "        except Exception as e:          \n",
    "            try:\n",
    "                df = get_metadata_new(n)\n",
    "            except Exception as e:\n",
    "                print(e)\n",
    "                print(f'for number:{n}')\n",
    "        finally:\n",
    "            df_all = pd.concat([df_all,df],axis=0)\n",
    "    return df_all   "
   ]
  },
  {
   "cell_type": "code",
   "execution_count": null,
   "metadata": {},
   "outputs": [],
   "source": [
    "df_all = get_all_metadata()"
   ]
  },
  {
   "cell_type": "code",
   "execution_count": null,
   "metadata": {},
   "outputs": [],
   "source": [
    "df_all.to_csv('all_Esprits_articles.csv',encoding='utf-8',index=False)"
   ]
  },
  {
   "cell_type": "markdown",
   "metadata": {},
   "source": [
    "### Renames all files"
   ]
  },
  {
   "cell_type": "code",
   "execution_count": null,
   "metadata": {},
   "outputs": [],
   "source": [
    "df_metada = pd.read_csv('all_Esprits_articles.csv')\n",
    "metadata_dic = df_all.drop_duplicates('number').set_index('number').T.to_dict()"
   ]
  },
  {
   "cell_type": "code",
   "execution_count": null,
   "metadata": {},
   "outputs": [],
   "source": [
    "all_pdf = pathlib.Path('./pdf').glob('**/*')\n",
    "files = [x for x in all_pdf if x.is_file()]\n",
    "\n",
    "\n",
    "def rename_files(number,extension='pdf'):\n",
    "    \n",
    "    old_file = os.path.join(extension, f\"esprit_number_{str(number)}.{extension}\")\n",
    "    print(old_file)\n",
    "    if metadata_dic[number]['title'] is None:\n",
    "        title=''\n",
    "    else :\n",
    "        title =  metadata_dic[number]['title']\n",
    "    new_file_name = metadata_dic[number]['date'].replace('/','_')+'_'+title+'.'+extension\n",
    "    new_file = os.path.join(\"./data/epub\", new_file_name)\n",
    "   \n",
    "    os.rename(old_file, new_file)\n",
    "    \n",
    "    "
   ]
  },
  {
   "cell_type": "code",
   "execution_count": null,
   "metadata": {},
   "outputs": [],
   "source": [
    "for n in all_numbers:\n",
    "    try:\n",
    "        rename_files(n,'pdf')\n",
    "        rename_files(n,'epub')\n",
    "    except Exception as e:\n",
    "        print(e)\n",
    "        print(n)"
   ]
  },
  {
   "cell_type": "code",
   "execution_count": null,
   "metadata": {},
   "outputs": [],
   "source": [
    "\n",
    "df_metada[~df_metada.authors.isnull() &df_metada.authors.str.contains('Bourg')]"
   ]
  }
 ],
 "metadata": {
  "kernelspec": {
   "display_name": "Python 3",
   "language": "python",
   "name": "python3"
  },
  "language_info": {
   "codemirror_mode": {
    "name": "ipython",
    "version": 3
   },
   "file_extension": ".py",
   "mimetype": "text/x-python",
   "name": "python",
   "nbconvert_exporter": "python",
   "pygments_lexer": "ipython3",
   "version": "3.7.4"
  }
 },
 "nbformat": 4,
 "nbformat_minor": 2
}
